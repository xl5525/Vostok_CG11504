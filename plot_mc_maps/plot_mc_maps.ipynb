{
 "cells": [
  {
   "cell_type": "code",
   "execution_count": null,
   "id": "d3081284-439b-4826-83b8-c592e16b7959",
   "metadata": {},
   "outputs": [],
   "source": [
    "import subprocess\n",
    "from IPython.display import Image\n",
    "import re\n",
    "\n",
    "# Function to calculate the dynamic depth based on the region\n",
    "def calculate_depth(region):\n",
    "    match = re.match(r\".+:(\\d+)-(\\d+)\", region)\n",
    "    if match:\n",
    "        start = int(match.group(1))\n",
    "        end = int(match.group(2))\n",
    "        depth = int((end - start) / 9000) * 7000\n",
    "        return depth\n",
    "    else:\n",
    "        raise ValueError(\"Invalid region format. Expected format: chr:start-end\")\n",
    "\n",
    "# Function to update the .ini file with the calculated depth, min_value, and max_value\n",
    "def update_ini_file(depth, min_value, max_value, ini_file, gtffile):\n",
    "    with open(ini_file, 'r') as file:\n",
    "        lines = file.readlines()\n",
    "    \n",
    "    current_track = None\n",
    "    is_hic_matrix = False  # Flag to track if we are within a hic_matrix section\n",
    "\n",
    "    for i, line in enumerate(lines):\n",
    "        if line.startswith(\"[\"):\n",
    "            current_track = line.strip()[1:-1]  # Get the track name\n",
    "            is_hic_matrix = False  # Reset the flag for new track section\n",
    "\n",
    "        if \"file_type = hic_matrix\" in line:\n",
    "            is_hic_matrix = True  # Set the flag if we find a hic_matrix\n",
    "\n",
    "        # Update parameters only for Hi-C matrix tracks\n",
    "        if is_hic_matrix:\n",
    "            if line.startswith(\"depth\"):\n",
    "                lines[i] = f\"depth = {depth}\\n\"\n",
    "            if line.startswith(\"min_value\"):\n",
    "                lines[i] = f\"min_value = {min_value}\\n\"\n",
    "            if line.startswith(\"max_value\"):\n",
    "                lines[i] = f\"max_value = {max_value}\\n\"\n",
    "        \n",
    "        # Update the GTF file entry\n",
    "        if line.endswith(\".gtf\\n\"):\n",
    "            lines[i] = f\"file = {gtffile}\\n\"\n",
    "    \n",
    "    with open(ini_file, 'w') as file:\n",
    "        file.writelines(lines)\n",
    "\n",
    "# Function to run pyGenomeTracks and display the result\n",
    "def plot_region(region, output, ini_file, gtffile, min_value=0, max_value=0.01):\n",
    "    depth = calculate_depth(region)\n",
    "    update_ini_file(depth, min_value, max_value, ini_file, gtffile)\n",
    "    \n",
    "    command = f\"pyGenomeTracks --tracks {ini_file} --region {region} -o {output}.png --dpi 300 --fontSize 40 --width 90\"\n",
    "    subprocess.run(command, shell=True)\n",
    "    \n",
    "    return Image(f\"{output}.png\")\n"
   ]
  },
  {
   "cell_type": "code",
   "execution_count": null,
   "id": "9351034d-c9f1-4590-87cb-a70a6838d129",
   "metadata": {},
   "outputs": [],
   "source": [
    "plot_region(\"chr2L:12816000-12861000\",\"kek1_cg\",\"tracks_cg_mc_simplified_w_chip_cg_cgd.ini\", \n",
    "            \"/Users/xl5525/Documents/dm6.59/dmel-all-r6.59.gtf\", -3,-7)"
   ]
  },
  {
   "cell_type": "code",
   "execution_count": null,
   "id": "5fd74c46-069f-4098-a134-0fb361cab39b",
   "metadata": {},
   "outputs": [],
   "source": [
    "plot_region(\"chrX:14600000-14780000\",\"NetA-B_cg\",\"tracks_cg_mc_simplified_w_chip_cg_cgd.ini\",\n",
    "            \"neta-b.gtf\",-3,-7)"
   ]
  },
  {
   "cell_type": "code",
   "execution_count": null,
   "id": "1ab0ffbb-91a0-453b-83f3-3b91e4065655",
   "metadata": {},
   "outputs": [],
   "source": [
    "plot_region(\"chr2L:14380000-14500000\",\"elB-noc_POZ\",\"tracks_poz_mc_simplified.ini\",\n",
    "            \"/Users/xl5525/Documents/dm6.59/dmel-all-coding-gene-6.59.gtf\", -8,-3)"
   ]
  },
  {
   "cell_type": "code",
   "execution_count": null,
   "id": "8df4e022-45e5-492e-98ee-074e3e93b15c",
   "metadata": {},
   "outputs": [],
   "source": [
    "plot_region(\"chrX:3155000-3220000\",\"both_reduced_example\",\"tracks_cg_poz_mc_simplified_400.ini\",\n",
    "            \"/Users/xl5525/Documents/dm6.59/dmel-all-coding-gene-6.59.gtf\", -7,-3.5)"
   ]
  },
  {
   "cell_type": "code",
   "execution_count": null,
   "id": "ff6ab76b-3b52-4109-b4e7-c5051b5301d2",
   "metadata": {},
   "outputs": [],
   "source": [
    "plot_region(\"chr2L:7070000-7180000\",\"pvf3\",\"tracks_cg_mc_simplified_400.ini\",\n",
    "            \"/Users/xl5525/Documents/dm6.59/dmel-all-coding-gene-6.59.gtf\", -7,-4)"
   ]
  },
  {
   "cell_type": "code",
   "execution_count": null,
   "id": "153d10c1-a061-4e8e-b219-99c79439b410",
   "metadata": {},
   "outputs": [],
   "source": [
    "plot_region(\"chr2L:16000000-16250000\",\"both_reduced_lbloop91\",\"tracks_cg_poz_mc_simplified_400.ini\",\n",
    "            \"/Users/xl5525/Documents/dm6.59/dmel-all-coding-gene-6.59.gtf\", -8,-5)"
   ]
  },
  {
   "cell_type": "code",
   "execution_count": null,
   "id": "7040a6d3-9d0b-4c78-af06-f90fc1f6c95b",
   "metadata": {},
   "outputs": [],
   "source": [
    "plot_region(\"chr2L:7090000-7170000\",\"pvf3\",\"tracks_cg_mc_simplified_w_chip.ini\",\n",
    "            \"/Users/xl5525/Documents/dm6.59/dmel-all-coding-gene-6.59.gtf\", -7,-4)"
   ]
  },
  {
   "cell_type": "code",
   "execution_count": null,
   "id": "eff7e639-00a3-4a7d-9d9c-c4e461b1dff5",
   "metadata": {},
   "outputs": [],
   "source": [
    "plot_region(\"chrX:14600000-14750000\",\"NetA-B_cg_poz\",\"tracks_cg_mc_simplified_w_chip_gaf_cg.ini\",\n",
    "            \"/Users/xl5525/Documents/dm6.59/dmel-all-coding-gene-6.59.gtf\", -7,-4)"
   ]
  },
  {
   "cell_type": "code",
   "execution_count": null,
   "id": "88cfb631-1f78-4051-8d12-5f438fdd146e",
   "metadata": {},
   "outputs": [],
   "source": [
    "plot_region(\"chr2L:12806000-12871000\",\"kek1_cg_poz_chip\",\"tracks_cg_mc_simplified_w_chip_gaf_cg.ini\", \n",
    "            \"/Users/xl5525/Documents/dm6.59/dmel-all-r6.59.gtf\", -7,-4)"
   ]
  },
  {
   "cell_type": "code",
   "execution_count": null,
   "id": "e3d2d040-b2e4-454f-8ae9-8e0d2ee1f8db",
   "metadata": {},
   "outputs": [],
   "source": [
    "plot_region(\"chr2L:14380000-14500000\",\"elB-noc_POZ_cg\",\"tracks_cg_mc_simplified_w_chip_gaf_cg.ini\",\n",
    "            \"/Users/xl5525/Documents/dm6.59/dmel-all-coding-gene-6.59.gtf\", -8,-3)"
   ]
  },
  {
   "cell_type": "code",
   "execution_count": null,
   "id": "122a29f5-1b8a-4ba2-9716-510d433f262b",
   "metadata": {},
   "outputs": [],
   "source": [
    "plot_region(\"chrX:13900000-14100000\",\"mamo_POZ_cg\",\"tracks_cg_mc_simplified_w_all_chip.ini\",\n",
    "            \"/Users/xl5525/Documents/dm6.59/dmel-all-coding-gene-6.59.gtf\", -8,-3)"
   ]
  },
  {
   "cell_type": "code",
   "execution_count": null,
   "id": "5baa1d2c-a419-41a4-8a11-9b7dbfb1623d",
   "metadata": {},
   "outputs": [],
   "source": [
    "plot_region(\"chr2L:7090000-7170000\",\"pvf3_all_track\",\"tracks_cg_mc_simplified_w_all_chip_rnaseq.ini\",\n",
    "            \"/Users/xl5525/Documents/dm6.59/dmel-all-coding-gene-6.59.gtf\", -8,-3)"
   ]
  }
 ],
 "metadata": {
  "kernelspec": {
   "display_name": "Python 3 (ipykernel)",
   "language": "python",
   "name": "python3"
  },
  "language_info": {
   "codemirror_mode": {
    "name": "ipython",
    "version": 3
   },
   "file_extension": ".py",
   "mimetype": "text/x-python",
   "name": "python",
   "nbconvert_exporter": "python",
   "pygments_lexer": "ipython3",
   "version": "3.10.13"
  }
 },
 "nbformat": 4,
 "nbformat_minor": 5
}
